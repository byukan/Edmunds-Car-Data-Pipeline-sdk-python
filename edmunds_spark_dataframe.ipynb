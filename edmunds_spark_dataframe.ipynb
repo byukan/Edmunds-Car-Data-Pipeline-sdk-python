{
 "cells": [
  {
   "cell_type": "code",
   "execution_count": 225,
   "metadata": {
    "collapsed": true
   },
   "outputs": [],
   "source": [
    "# http://ec2-54-159-219-64.compute-1.amazonaws.com:8888/notebooks/edmunds_spark_dataframe.ipynb#"
   ]
  },
  {
   "cell_type": "markdown",
   "metadata": {
    "deletable": true,
    "editable": true
   },
   "source": [
    "# Edmunds Spark DataFrames"
   ]
  },
  {
   "cell_type": "code",
   "execution_count": 152,
   "metadata": {
    "collapsed": true
   },
   "outputs": [],
   "source": [
    "# !sudo pip install pandas\n",
    "\n",
    "from pyspark.sql.functions import desc, explode\n",
    "from pprint import pprint"
   ]
  },
  {
   "cell_type": "code",
   "execution_count": 153,
   "metadata": {
    "collapsed": false,
    "deletable": true,
    "editable": true
   },
   "outputs": [],
   "source": [
    "# A way to read json files:\n",
    "df_0 = spark.read.load(\"s3a://edmundsvehicle/2017/03/06/21/*\", format=\"json\")"
   ]
  },
  {
   "cell_type": "markdown",
   "metadata": {},
   "source": [
    "# Create 4 tables that conform to third normal form:\n",
    "### MODEL, YEARS, STYLES, SUBMODELS"
   ]
  },
  {
   "cell_type": "code",
   "execution_count": 199,
   "metadata": {
    "collapsed": true,
    "deletable": true,
    "editable": true
   },
   "outputs": [],
   "source": [
    "# first work with a single json object\n",
    "MODEL = spark.read.json(\"s3a://edmundsvehicle/2017/03/06/21/*\")"
   ]
  },
  {
   "cell_type": "code",
   "execution_count": 155,
   "metadata": {
    "collapsed": false,
    "deletable": true,
    "editable": true
   },
   "outputs": [
    {
     "name": "stdout",
     "output_type": "stream",
     "text": [
      "root\n",
      " |-- id: string (nullable = true)\n",
      " |-- name: string (nullable = true)\n",
      " |-- niceName: string (nullable = true)\n",
      " |-- time_stamp: double (nullable = true)\n",
      " |-- years: array (nullable = true)\n",
      " |    |-- element: struct (containsNull = true)\n",
      " |    |    |-- id: long (nullable = true)\n",
      " |    |    |-- styles: array (nullable = true)\n",
      " |    |    |    |-- element: struct (containsNull = true)\n",
      " |    |    |    |    |-- id: long (nullable = true)\n",
      " |    |    |    |    |-- name: string (nullable = true)\n",
      " |    |    |    |    |-- submodel: struct (nullable = true)\n",
      " |    |    |    |    |    |-- body: string (nullable = true)\n",
      " |    |    |    |    |    |-- modelName: string (nullable = true)\n",
      " |    |    |    |    |    |-- niceName: string (nullable = true)\n",
      " |    |    |    |    |-- trim: string (nullable = true)\n",
      " |    |    |-- year: long (nullable = true)\n",
      "\n"
     ]
    }
   ],
   "source": [
    "MODEL.printSchema()"
   ]
  },
  {
   "cell_type": "code",
   "execution_count": 156,
   "metadata": {
    "collapsed": false,
    "deletable": true,
    "editable": true,
    "scrolled": true
   },
   "outputs": [
    {
     "name": "stdout",
     "output_type": "stream",
     "text": [
      "+------+\n",
      "|    id|\n",
      "+------+\n",
      "|BMW_i3|\n",
      "+------+\n",
      "\n"
     ]
    }
   ],
   "source": [
    "# Create First DataFrame.\n",
    "# Let's test first our query.\n",
    "\n",
    "# years[0] \n",
    "MODEL.selectExpr('id').show()"
   ]
  },
  {
   "cell_type": "code",
   "execution_count": 157,
   "metadata": {
    "collapsed": false,
    "scrolled": false
   },
   "outputs": [
    {
     "name": "stdout",
     "output_type": "stream",
     "text": [
      "+------+--------------------+\n",
      "|    id|                 col|\n",
      "+------+--------------------+\n",
      "|BMW_i3|[200460080,Wrappe...|\n",
      "|BMW_i3|[200725667,Wrappe...|\n",
      "|BMW_i3|[401612494,Wrappe...|\n",
      "|BMW_i3|[401690178,Wrappe...|\n",
      "+------+--------------------+\n",
      "\n"
     ]
    }
   ],
   "source": [
    "YEARS = MODEL.select(MODEL['id'], explode(MODEL['years']))\n",
    "YEARS.show()"
   ]
  },
  {
   "cell_type": "code",
   "execution_count": 158,
   "metadata": {
    "collapsed": false,
    "scrolled": false
   },
   "outputs": [
    {
     "name": "stdout",
     "output_type": "stream",
     "text": [
      "root\n",
      " |-- id: string (nullable = true)\n",
      " |-- col: struct (nullable = true)\n",
      " |    |-- id: long (nullable = true)\n",
      " |    |-- styles: array (nullable = true)\n",
      " |    |    |-- element: struct (containsNull = true)\n",
      " |    |    |    |-- id: long (nullable = true)\n",
      " |    |    |    |-- name: string (nullable = true)\n",
      " |    |    |    |-- submodel: struct (nullable = true)\n",
      " |    |    |    |    |-- body: string (nullable = true)\n",
      " |    |    |    |    |-- modelName: string (nullable = true)\n",
      " |    |    |    |    |-- niceName: string (nullable = true)\n",
      " |    |    |    |-- trim: string (nullable = true)\n",
      " |    |-- year: long (nullable = true)\n",
      "\n"
     ]
    }
   ],
   "source": [
    "YEARS.printSchema()"
   ]
  },
  {
   "cell_type": "code",
   "execution_count": 159,
   "metadata": {
    "collapsed": false,
    "scrolled": true
   },
   "outputs": [
    {
     "name": "stdout",
     "output_type": "stream",
     "text": [
      "+------+--------------------+---------+----+--------------------+\n",
      "|    id|                 col|  year_id|year|              styles|\n",
      "+------+--------------------+---------+----+--------------------+\n",
      "|BMW_i3|[200460080,Wrappe...|200460080|2014|[[101402984,4dr H...|\n",
      "|BMW_i3|[200725667,Wrappe...|200725667|2015|[[200725669,4dr H...|\n",
      "|BMW_i3|[401612494,Wrappe...|401612494|2016|[[401612496,4dr H...|\n",
      "|BMW_i3|[401690178,Wrappe...|401690178|2017|[[401690179,4dr H...|\n",
      "+------+--------------------+---------+----+--------------------+\n",
      "\n"
     ]
    }
   ],
   "source": [
    "YEARS = YEARS.withColumn(\"year_id\", YEARS['col'].getField(\"id\"))\n",
    "YEARS = YEARS.withColumn(\"year\", YEARS['col'].getField(\"year\"))\n",
    "YEARS = YEARS.withColumn(\"styles\", YEARS['col'].getField(\"styles\"))\n",
    "YEARS.show()"
   ]
  },
  {
   "cell_type": "code",
   "execution_count": 161,
   "metadata": {
    "collapsed": false,
    "scrolled": true
   },
   "outputs": [
    {
     "name": "stdout",
     "output_type": "stream",
     "text": [
      "+------+--------------------+\n",
      "|    id|                 col|\n",
      "+------+--------------------+\n",
      "|BMW_i3|[101402984,4dr Ha...|\n",
      "|BMW_i3|[200689763,4dr Ha...|\n",
      "|BMW_i3|[200725669,4dr Ha...|\n",
      "|BMW_i3|[200725668,4dr Ha...|\n",
      "|BMW_i3|[401612496,4dr Ha...|\n",
      "|BMW_i3|[401612495,4dr Ha...|\n",
      "|BMW_i3|[401690179,4dr Ha...|\n",
      "|BMW_i3|[401690196,4dr Ha...|\n",
      "|BMW_i3|[401690180,60 Ah ...|\n",
      "+------+--------------------+\n",
      "\n"
     ]
    }
   ],
   "source": [
    "STYLES = YEARS.select(YEARS['id'], explode(YEARS['styles']))\n",
    "STYLES.show()"
   ]
  },
  {
   "cell_type": "code",
   "execution_count": 162,
   "metadata": {
    "collapsed": false,
    "scrolled": true
   },
   "outputs": [
    {
     "name": "stdout",
     "output_type": "stream",
     "text": [
      "root\n",
      " |-- id: string (nullable = true)\n",
      " |-- col: struct (nullable = true)\n",
      " |    |-- id: long (nullable = true)\n",
      " |    |-- name: string (nullable = true)\n",
      " |    |-- submodel: struct (nullable = true)\n",
      " |    |    |-- body: string (nullable = true)\n",
      " |    |    |-- modelName: string (nullable = true)\n",
      " |    |    |-- niceName: string (nullable = true)\n",
      " |    |-- trim: string (nullable = true)\n",
      "\n"
     ]
    }
   ],
   "source": [
    "STYLES.printSchema()"
   ]
  },
  {
   "cell_type": "code",
   "execution_count": 166,
   "metadata": {
    "collapsed": false,
    "scrolled": true
   },
   "outputs": [
    {
     "name": "stdout",
     "output_type": "stream",
     "text": [
      "+------+--------------------+---------+--------------------+--------------------+----------------+\n",
      "|    id|                 col|  trim_id|                name|            submodel|            trim|\n",
      "+------+--------------------+---------+--------------------+--------------------+----------------+\n",
      "|BMW_i3|[101402984,4dr Ha...|101402984|4dr Hatchback w/R...|[Hatchback,i3 Hat...|w/Range Extender|\n",
      "|BMW_i3|[200689763,4dr Ha...|200689763|4dr Hatchback (el...|[Hatchback,i3 Hat...|            Base|\n",
      "|BMW_i3|[200725669,4dr Ha...|200725669|4dr Hatchback (el...|[Hatchback,i3 Hat...|            Base|\n",
      "|BMW_i3|[200725668,4dr Ha...|200725668|4dr Hatchback w/R...|[Hatchback,i3 Hat...|w/Range Extender|\n",
      "|BMW_i3|[401612496,4dr Ha...|401612496|4dr Hatchback w/R...|[Hatchback,i3 Hat...|w/Range Extender|\n",
      "|BMW_i3|[401612495,4dr Ha...|401612495|4dr Hatchback (el...|[Hatchback,i3 Hat...|            Base|\n",
      "|BMW_i3|[401690179,4dr Ha...|401690179|4dr Hatchback w/R...|[Hatchback,i3 Hat...|w/Range Extender|\n",
      "|BMW_i3|[401690196,4dr Ha...|401690196|4dr Hatchback (el...|[Hatchback,i3 Hat...|            Base|\n",
      "|BMW_i3|[401690180,60 Ah ...|401690180|60 Ah 4dr Hatchba...|[Hatchback,i3 Hat...|           60 Ah|\n",
      "+------+--------------------+---------+--------------------+--------------------+----------------+\n",
      "\n"
     ]
    }
   ],
   "source": [
    "STYLES = STYLES.withColumn(\"trim_id\", STYLES['col'].getField(\"id\"))\n",
    "STYLES = STYLES.withColumn(\"name\", STYLES['col'].getField(\"name\"))\n",
    "STYLES = STYLES.withColumn(\"submodel\", STYLES['col'].getField(\"submodel\"))\n",
    "STYLES = STYLES.withColumn(\"trim\", STYLES['col'].getField(\"trim\"))\n",
    "STYLES.show()"
   ]
  },
  {
   "cell_type": "code",
   "execution_count": 180,
   "metadata": {
    "collapsed": false,
    "scrolled": true
   },
   "outputs": [
    {
     "name": "stdout",
     "output_type": "stream",
     "text": [
      "+------+-------------+------------------+-----------------+\n",
      "|    id|submodel.body|submodel.modelName|submodel.niceName|\n",
      "+------+-------------+------------------+-----------------+\n",
      "|BMW_i3|    Hatchback|      i3 Hatchback|        hatchback|\n",
      "|BMW_i3|    Hatchback|      i3 Hatchback|        hatchback|\n",
      "|BMW_i3|    Hatchback|      i3 Hatchback|        hatchback|\n",
      "|BMW_i3|    Hatchback|      i3 Hatchback|        hatchback|\n",
      "|BMW_i3|    Hatchback|      i3 Hatchback|        hatchback|\n",
      "|BMW_i3|    Hatchback|      i3 Hatchback|        hatchback|\n",
      "|BMW_i3|    Hatchback|      i3 Hatchback|        hatchback|\n",
      "|BMW_i3|    Hatchback|      i3 Hatchback|        hatchback|\n",
      "|BMW_i3|    Hatchback|      i3 Hatchback|        hatchback|\n",
      "+------+-------------+------------------+-----------------+\n",
      "\n"
     ]
    }
   ],
   "source": [
    "SUBMODELS = STYLES.select(STYLES['id'], STYLES.submodel.body, STYLES.submodel.modelName, STYLES.submodel.niceName)\n",
    "SUBMODELS.show()"
   ]
  },
  {
   "cell_type": "code",
   "execution_count": 183,
   "metadata": {
    "collapsed": true
   },
   "outputs": [],
   "source": [
    "# run a SQL query\n",
    "\n",
    "sqlCtx.registerDataFrameAsTable(MODEL, \"MODEL\")\n",
    "sqlCtx.registerDataFrameAsTable(YEARS, \"YEARS\")\n",
    "sqlCtx.registerDataFrameAsTable(STYLES, \"STYLES\")\n",
    "sqlCtx.registerDataFrameAsTable(SUBMODELS, \"SUBMODELS\")"
   ]
  },
  {
   "cell_type": "code",
   "execution_count": 198,
   "metadata": {
    "collapsed": false
   },
   "outputs": [
    {
     "name": "stdout",
     "output_type": "stream",
     "text": [
      "+------+----+\n",
      "|    id|year|\n",
      "+------+----+\n",
      "|BMW_i3|2017|\n",
      "|BMW_i3|2016|\n",
      "|BMW_i3|2015|\n",
      "|BMW_i3|2014|\n",
      "+------+----+\n",
      "\n"
     ]
    }
   ],
   "source": [
    "df2 = sqlCtx.sql(\"\"\"SELECT m.id, y.year from MODEL m\n",
    "                    LEFT JOIN YEARS y on m.id = y.id\"\"\")\n",
    "df2.collect()\n",
    "df2.show()"
   ]
  },
  {
   "cell_type": "markdown",
   "metadata": {},
   "source": [
    "# Create Tables Using All the Models in the dataset"
   ]
  },
  {
   "cell_type": "code",
   "execution_count": 205,
   "metadata": {
    "collapsed": true
   },
   "outputs": [],
   "source": [
    "# new_df = df.select(df['id'], explode(df['years']['years']))"
   ]
  },
  {
   "cell_type": "code",
   "execution_count": 217,
   "metadata": {
    "collapsed": true,
    "deletable": true,
    "editable": true
   },
   "outputs": [],
   "source": [
    "# We read all files:\n",
    "ALL_MODELS = spark.read.json(\"s3a://edmundsvehicle/2017/*/*/*/*\")"
   ]
  },
  {
   "cell_type": "code",
   "execution_count": 218,
   "metadata": {
    "collapsed": false,
    "deletable": true,
    "editable": true
   },
   "outputs": [
    {
     "data": {
      "text/plain": [
       "pyspark.sql.dataframe.DataFrame"
      ]
     },
     "execution_count": 218,
     "metadata": {},
     "output_type": "execute_result"
    }
   ],
   "source": [
    "ALL_MODELS.cache()\n",
    "type(ALL_MODELS)"
   ]
  },
  {
   "cell_type": "code",
   "execution_count": 219,
   "metadata": {
    "collapsed": false,
    "deletable": true,
    "editable": true,
    "scrolled": true
   },
   "outputs": [],
   "source": [
    "# df_all.selectExpr('id',\n",
    "#                   'niceName',\n",
    "#                   'time_stamp',\n",
    "#                   'years[0].id as model_year_id',\n",
    "#                   'years[0].styles[0].id as style_id',\n",
    "#                   'years[0].styles[0].name as style',\n",
    "#                   'years[0].styles[0].submodel.body as body',\n",
    "#                   'years[0].styles[0].submodel.modelName as modelName',\n",
    "#                   'years[0].styles[0].trim as trim').show(500)\n",
    "# df_all.selectExpr('years').show(500)"
   ]
  },
  {
   "cell_type": "code",
   "execution_count": 224,
   "metadata": {
    "collapsed": false,
    "scrolled": true
   },
   "outputs": [
    {
     "data": {
      "text/html": [
       "<div>\n",
       "<table border=\"1\" class=\"dataframe\">\n",
       "  <thead>\n",
       "    <tr style=\"text-align: right;\">\n",
       "      <th></th>\n",
       "      <th>id</th>\n",
       "      <th>year</th>\n",
       "    </tr>\n",
       "  </thead>\n",
       "  <tbody>\n",
       "    <tr>\n",
       "      <th>0</th>\n",
       "      <td>BMW_3_Series</td>\n",
       "      <td>2017</td>\n",
       "    </tr>\n",
       "    <tr>\n",
       "      <th>1</th>\n",
       "      <td>BMW_3_Series</td>\n",
       "      <td>2016</td>\n",
       "    </tr>\n",
       "    <tr>\n",
       "      <th>2</th>\n",
       "      <td>BMW_3_Series</td>\n",
       "      <td>2015</td>\n",
       "    </tr>\n",
       "    <tr>\n",
       "      <th>3</th>\n",
       "      <td>BMW_3_Series</td>\n",
       "      <td>2014</td>\n",
       "    </tr>\n",
       "    <tr>\n",
       "      <th>4</th>\n",
       "      <td>BMW_3_Series</td>\n",
       "      <td>2013</td>\n",
       "    </tr>\n",
       "  </tbody>\n",
       "</table>\n",
       "</div>"
      ],
      "text/plain": [
       "             id  year\n",
       "0  BMW_3_Series  2017\n",
       "1  BMW_3_Series  2016\n",
       "2  BMW_3_Series  2015\n",
       "3  BMW_3_Series  2014\n",
       "4  BMW_3_Series  2013"
      ]
     },
     "execution_count": 224,
     "metadata": {},
     "output_type": "execute_result"
    }
   ],
   "source": [
    "# convert all to 3rd normal form schema\n",
    "\n",
    "ALL_YEARS = ALL_MODELS.select(ALL_MODELS['id'], explode(ALL_MODELS['years']))\n",
    "\n",
    "ALL_YEARS = ALL_YEARS.withColumn(\"year_id\", ALL_YEARS['col'].getField(\"id\"))\n",
    "ALL_YEARS = ALL_YEARS.withColumn(\"year\", ALL_YEARS['col'].getField(\"year\"))\n",
    "ALL_YEARS = ALL_YEARS.withColumn(\"styles\", ALL_YEARS['col'].getField(\"styles\"))\n",
    "\n",
    "ALL_STYLES = ALL_YEARS.select(ALL_YEARS['id'], explode(ALL_YEARS['styles']))\n",
    "\n",
    "ALL_STYLES = ALL_STYLES.withColumn(\"trim_id\", ALL_STYLES['col'].getField(\"id\"))\n",
    "ALL_STYLES = ALL_STYLES.withColumn(\"name\", ALL_STYLES['col'].getField(\"name\"))\n",
    "ALL_STYLES = ALL_STYLES.withColumn(\"submodel\", ALL_STYLES['col'].getField(\"submodel\"))\n",
    "ALL_STYLES = ALL_STYLES.withColumn(\"trim\", ALL_STYLES['col'].getField(\"trim\"))\n",
    "\n",
    "ALL_SUBMODELS = ALL_STYLES.select(ALL_STYLES['id'], ALL_STYLES.submodel.body, ALL_STYLES.submodel.modelName, ALL_STYLES.submodel.niceName)\n",
    "\n",
    "# register as SQL table\n",
    "sqlCtx.registerDataFrameAsTable(ALL_MODELS, \"ALL_MODELS\")\n",
    "sqlCtx.registerDataFrameAsTable(ALL_YEARS, \"ALL_YEARS\")\n",
    "sqlCtx.registerDataFrameAsTable(ALL_STYLES, \"ALL_STYLES\")\n",
    "sqlCtx.registerDataFrameAsTable(ALL_SUBMODELS, \"ALL_SUBMODELS\")\n",
    "\n",
    "# run a SQL query\n",
    "test_query = sqlCtx.sql(\"\"\"SELECT m.id, y.year from ALL_MODELS m\n",
    "                    LEFT JOIN ALL_YEARS y on m.id = y.id\n",
    "                    WHERE m.id is not NULL\n",
    "                    LIMIT 5\"\"\")\n",
    "test_query.collect()\n",
    "test_query.toPandas()"
   ]
  },
  {
   "cell_type": "code",
   "execution_count": 223,
   "metadata": {
    "collapsed": false,
    "scrolled": true
   },
   "outputs": [],
   "source": [
    "# df_all.toPandas()"
   ]
  },
  {
   "cell_type": "code",
   "execution_count": null,
   "metadata": {
    "collapsed": true
   },
   "outputs": [],
   "source": []
  }
 ],
 "metadata": {
  "kernelspec": {
   "display_name": "Python 2",
   "language": "python",
   "name": "python2"
  },
  "language_info": {
   "codemirror_mode": {
    "name": "ipython",
    "version": 2
   },
   "file_extension": ".py",
   "mimetype": "text/x-python",
   "name": "python",
   "nbconvert_exporter": "python",
   "pygments_lexer": "ipython2",
   "version": "2.7.12"
  }
 },
 "nbformat": 4,
 "nbformat_minor": 2
}
