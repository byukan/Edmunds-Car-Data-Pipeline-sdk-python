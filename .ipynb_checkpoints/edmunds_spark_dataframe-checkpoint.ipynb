{
 "cells": [
  {
   "cell_type": "code",
   "execution_count": 18,
   "metadata": {
    "collapsed": true,
    "deletable": true,
    "editable": true
   },
   "outputs": [],
   "source": [
    "# http://ec2-54-159-219-64.compute-1.amazonaws.com:8888/notebooks/edmunds_spark_dataframe.ipynb#"
   ]
  },
  {
   "cell_type": "markdown",
   "metadata": {
    "deletable": true,
    "editable": true
   },
   "source": [
    "ALL MODELS\n",
    " - ['errorType',\n",
    " 'id',\n",
    " 'makes',\n",
    " 'makesCount',\n",
    " 'message',\n",
    " 'moreInfoUrl',\n",
    " 'name',\n",
    " 'niceName',\n",
    " 'status',\n",
    " 'time_stamp',\n",
    " 'years']\n",
    "\n",
    "ALL YEARS\n",
    " - ['id', 'col', 'year_id', 'year', 'styles']\n",
    "\n",
    "ALL STYLES\n",
    " - ['id', 'col', 'trim_id', 'name', 'submodel', 'trim']\n",
    "\n",
    "ALL SUBMODELS\n",
    " - ['id', 'submodel.body', 'submodel.modelName', 'submodel.niceName']"
   ]
  },
  {
   "cell_type": "markdown",
   "metadata": {
    "deletable": true,
    "editable": true
   },
   "source": [
    "# Edmunds Spark DataFrames"
   ]
  },
  {
   "cell_type": "code",
   "execution_count": 19,
   "metadata": {
    "collapsed": true,
    "deletable": true,
    "editable": true
   },
   "outputs": [],
   "source": [
    "# !sudo pip install pandas\n",
    "\n",
    "from pyspark.sql.functions import desc, explode, col\n",
    "from pprint import pprint"
   ]
  },
  {
   "cell_type": "code",
   "execution_count": 20,
   "metadata": {
    "collapsed": false,
    "deletable": true,
    "editable": true
   },
   "outputs": [],
   "source": [
    "# A way to read json files:\n",
    "df_0 = spark.read.load(\"s3a://edmundsvehicle/2017/03/06/21/*\", format=\"json\")"
   ]
  },
  {
   "cell_type": "markdown",
   "metadata": {
    "deletable": true,
    "editable": true
   },
   "source": [
    "# Create 3 tables that conform to third normal form:\n",
    "### MODEL, YEARS, STYLES"
   ]
  },
  {
   "cell_type": "code",
   "execution_count": 21,
   "metadata": {
    "collapsed": true,
    "deletable": true,
    "editable": true
   },
   "outputs": [],
   "source": [
    "# first work with a single json object\n",
    "MODEL = spark.read.json(\"s3a://edmundsvehicle/2017/03/06/21/*\")"
   ]
  },
  {
   "cell_type": "code",
   "execution_count": 22,
   "metadata": {
    "collapsed": false,
    "deletable": true,
    "editable": true
   },
   "outputs": [
    {
     "name": "stdout",
     "output_type": "stream",
     "text": [
      "root\n",
      " |-- id: string (nullable = true)\n",
      " |-- name: string (nullable = true)\n",
      " |-- niceName: string (nullable = true)\n",
      " |-- time_stamp: double (nullable = true)\n",
      " |-- years: array (nullable = true)\n",
      " |    |-- element: struct (containsNull = true)\n",
      " |    |    |-- id: long (nullable = true)\n",
      " |    |    |-- styles: array (nullable = true)\n",
      " |    |    |    |-- element: struct (containsNull = true)\n",
      " |    |    |    |    |-- id: long (nullable = true)\n",
      " |    |    |    |    |-- name: string (nullable = true)\n",
      " |    |    |    |    |-- submodel: struct (nullable = true)\n",
      " |    |    |    |    |    |-- body: string (nullable = true)\n",
      " |    |    |    |    |    |-- modelName: string (nullable = true)\n",
      " |    |    |    |    |    |-- niceName: string (nullable = true)\n",
      " |    |    |    |    |-- trim: string (nullable = true)\n",
      " |    |    |-- year: long (nullable = true)\n",
      "\n"
     ]
    }
   ],
   "source": [
    "MODEL.printSchema()"
   ]
  },
  {
   "cell_type": "code",
   "execution_count": 23,
   "metadata": {
    "collapsed": false,
    "deletable": true,
    "editable": true,
    "scrolled": true
   },
   "outputs": [
    {
     "name": "stdout",
     "output_type": "stream",
     "text": [
      "+------+\n",
      "|    id|\n",
      "+------+\n",
      "|BMW_i3|\n",
      "+------+\n",
      "\n"
     ]
    }
   ],
   "source": [
    "# Create First DataFrame.\n",
    "# Let's test first our query.\n",
    "\n",
    "# years[0] \n",
    "MODEL.selectExpr('id').show()"
   ]
  },
  {
   "cell_type": "code",
   "execution_count": 24,
   "metadata": {
    "collapsed": false,
    "deletable": true,
    "editable": true,
    "scrolled": false
   },
   "outputs": [
    {
     "name": "stdout",
     "output_type": "stream",
     "text": [
      "+------+--------------------+\n",
      "|    id|                 col|\n",
      "+------+--------------------+\n",
      "|BMW_i3|[200460080,Wrappe...|\n",
      "|BMW_i3|[200725667,Wrappe...|\n",
      "|BMW_i3|[401612494,Wrappe...|\n",
      "|BMW_i3|[401690178,Wrappe...|\n",
      "+------+--------------------+\n",
      "\n"
     ]
    }
   ],
   "source": [
    "YEARS = MODEL.select(MODEL['id'], explode(MODEL['years']))\n",
    "YEARS.show()"
   ]
  },
  {
   "cell_type": "code",
   "execution_count": 25,
   "metadata": {
    "collapsed": false,
    "deletable": true,
    "editable": true,
    "scrolled": false
   },
   "outputs": [
    {
     "name": "stdout",
     "output_type": "stream",
     "text": [
      "root\n",
      " |-- id: string (nullable = true)\n",
      " |-- col: struct (nullable = true)\n",
      " |    |-- id: long (nullable = true)\n",
      " |    |-- styles: array (nullable = true)\n",
      " |    |    |-- element: struct (containsNull = true)\n",
      " |    |    |    |-- id: long (nullable = true)\n",
      " |    |    |    |-- name: string (nullable = true)\n",
      " |    |    |    |-- submodel: struct (nullable = true)\n",
      " |    |    |    |    |-- body: string (nullable = true)\n",
      " |    |    |    |    |-- modelName: string (nullable = true)\n",
      " |    |    |    |    |-- niceName: string (nullable = true)\n",
      " |    |    |    |-- trim: string (nullable = true)\n",
      " |    |-- year: long (nullable = true)\n",
      "\n"
     ]
    }
   ],
   "source": [
    "YEARS.printSchema()"
   ]
  },
  {
   "cell_type": "code",
   "execution_count": 26,
   "metadata": {
    "collapsed": false,
    "deletable": true,
    "editable": true,
    "scrolled": true
   },
   "outputs": [
    {
     "name": "stdout",
     "output_type": "stream",
     "text": [
      "+------+--------------------+---------+----+--------------------+\n",
      "|    id|                 col|  year_id|year|              styles|\n",
      "+------+--------------------+---------+----+--------------------+\n",
      "|BMW_i3|[200460080,Wrappe...|200460080|2014|[[101402984,4dr H...|\n",
      "|BMW_i3|[200725667,Wrappe...|200725667|2015|[[200725669,4dr H...|\n",
      "|BMW_i3|[401612494,Wrappe...|401612494|2016|[[401612496,4dr H...|\n",
      "|BMW_i3|[401690178,Wrappe...|401690178|2017|[[401690179,4dr H...|\n",
      "+------+--------------------+---------+----+--------------------+\n",
      "\n"
     ]
    }
   ],
   "source": [
    "YEARS = YEARS.withColumn(\"year_id\", YEARS['col'].getField(\"id\"))\n",
    "YEARS = YEARS.withColumn(\"year\", YEARS['col'].getField(\"year\"))\n",
    "YEARS = YEARS.withColumn(\"styles\", YEARS['col'].getField(\"styles\"))\n",
    "YEARS.show()"
   ]
  },
  {
   "cell_type": "code",
   "execution_count": 27,
   "metadata": {
    "collapsed": false,
    "deletable": true,
    "editable": true,
    "scrolled": true
   },
   "outputs": [
    {
     "name": "stdout",
     "output_type": "stream",
     "text": [
      "+------+--------------------+\n",
      "|    id|                 col|\n",
      "+------+--------------------+\n",
      "|BMW_i3|[101402984,4dr Ha...|\n",
      "|BMW_i3|[200689763,4dr Ha...|\n",
      "|BMW_i3|[200725669,4dr Ha...|\n",
      "|BMW_i3|[200725668,4dr Ha...|\n",
      "|BMW_i3|[401612496,4dr Ha...|\n",
      "|BMW_i3|[401612495,4dr Ha...|\n",
      "|BMW_i3|[401690179,4dr Ha...|\n",
      "|BMW_i3|[401690196,4dr Ha...|\n",
      "|BMW_i3|[401690180,60 Ah ...|\n",
      "+------+--------------------+\n",
      "\n"
     ]
    }
   ],
   "source": [
    "STYLES = YEARS.select(YEARS['id'], explode(YEARS['styles']))\n",
    "STYLES.show()"
   ]
  },
  {
   "cell_type": "code",
   "execution_count": 28,
   "metadata": {
    "collapsed": false,
    "deletable": true,
    "editable": true,
    "scrolled": true
   },
   "outputs": [
    {
     "name": "stdout",
     "output_type": "stream",
     "text": [
      "root\n",
      " |-- id: string (nullable = true)\n",
      " |-- col: struct (nullable = true)\n",
      " |    |-- id: long (nullable = true)\n",
      " |    |-- name: string (nullable = true)\n",
      " |    |-- submodel: struct (nullable = true)\n",
      " |    |    |-- body: string (nullable = true)\n",
      " |    |    |-- modelName: string (nullable = true)\n",
      " |    |    |-- niceName: string (nullable = true)\n",
      " |    |-- trim: string (nullable = true)\n",
      "\n"
     ]
    }
   ],
   "source": [
    "STYLES.printSchema()"
   ]
  },
  {
   "cell_type": "code",
   "execution_count": 29,
   "metadata": {
    "collapsed": false,
    "deletable": true,
    "editable": true,
    "scrolled": true
   },
   "outputs": [
    {
     "name": "stdout",
     "output_type": "stream",
     "text": [
      "+------+--------------------+---------+--------------------+--------------------+----------------+\n",
      "|    id|                 col|  trim_id|                name|            submodel|            trim|\n",
      "+------+--------------------+---------+--------------------+--------------------+----------------+\n",
      "|BMW_i3|[101402984,4dr Ha...|101402984|4dr Hatchback w/R...|[Hatchback,i3 Hat...|w/Range Extender|\n",
      "|BMW_i3|[200689763,4dr Ha...|200689763|4dr Hatchback (el...|[Hatchback,i3 Hat...|            Base|\n",
      "|BMW_i3|[200725669,4dr Ha...|200725669|4dr Hatchback (el...|[Hatchback,i3 Hat...|            Base|\n",
      "|BMW_i3|[200725668,4dr Ha...|200725668|4dr Hatchback w/R...|[Hatchback,i3 Hat...|w/Range Extender|\n",
      "|BMW_i3|[401612496,4dr Ha...|401612496|4dr Hatchback w/R...|[Hatchback,i3 Hat...|w/Range Extender|\n",
      "|BMW_i3|[401612495,4dr Ha...|401612495|4dr Hatchback (el...|[Hatchback,i3 Hat...|            Base|\n",
      "|BMW_i3|[401690179,4dr Ha...|401690179|4dr Hatchback w/R...|[Hatchback,i3 Hat...|w/Range Extender|\n",
      "|BMW_i3|[401690196,4dr Ha...|401690196|4dr Hatchback (el...|[Hatchback,i3 Hat...|            Base|\n",
      "|BMW_i3|[401690180,60 Ah ...|401690180|60 Ah 4dr Hatchba...|[Hatchback,i3 Hat...|           60 Ah|\n",
      "+------+--------------------+---------+--------------------+--------------------+----------------+\n",
      "\n"
     ]
    }
   ],
   "source": [
    "STYLES = STYLES.withColumn(\"trim_id\", STYLES['col'].getField(\"id\"))\n",
    "STYLES = STYLES.withColumn(\"name\", STYLES['col'].getField(\"name\"))\n",
    "STYLES = STYLES.withColumn(\"submodel\", STYLES['col'].getField(\"submodel\"))\n",
    "STYLES = STYLES.withColumn(\"trim\", STYLES['col'].getField(\"trim\"))\n",
    "STYLES.show()"
   ]
  },
  {
   "cell_type": "code",
   "execution_count": 30,
   "metadata": {
    "collapsed": false,
    "deletable": true,
    "editable": true,
    "scrolled": true
   },
   "outputs": [],
   "source": [
    "# SUBMODELS = STYLES.select(STYLES['id'], STYLES.submodel.body, STYLES.submodel.modelName, STYLES.submodel.niceName)\n",
    "# SUBMODELS.show()"
   ]
  },
  {
   "cell_type": "code",
   "execution_count": 31,
   "metadata": {
    "collapsed": false,
    "deletable": true,
    "editable": true
   },
   "outputs": [],
   "source": [
    "# run a SQL query\n",
    "\n",
    "sqlCtx.registerDataFrameAsTable(MODEL, \"MODEL\")\n",
    "sqlCtx.registerDataFrameAsTable(YEARS, \"YEARS\")\n",
    "sqlCtx.registerDataFrameAsTable(STYLES, \"STYLES\")\n",
    "# sqlCtx.registerDataFrameAsTable(SUBMODELS, \"SUBMODELS\")"
   ]
  },
  {
   "cell_type": "code",
   "execution_count": 32,
   "metadata": {
    "collapsed": false,
    "deletable": true,
    "editable": true
   },
   "outputs": [
    {
     "name": "stdout",
     "output_type": "stream",
     "text": [
      "+------+----+\n",
      "|    id|year|\n",
      "+------+----+\n",
      "|BMW_i3|2017|\n",
      "|BMW_i3|2016|\n",
      "|BMW_i3|2015|\n",
      "|BMW_i3|2014|\n",
      "+------+----+\n",
      "\n"
     ]
    }
   ],
   "source": [
    "df2 = sqlCtx.sql(\"\"\"SELECT m.id, y.year from MODEL m\n",
    "                    LEFT JOIN YEARS y on m.id = y.id\"\"\")\n",
    "df2.collect()\n",
    "df2.show()"
   ]
  },
  {
   "cell_type": "markdown",
   "metadata": {
    "deletable": true,
    "editable": true
   },
   "source": [
    "# Create Tables Using All the Models in the dataset"
   ]
  },
  {
   "cell_type": "code",
   "execution_count": 33,
   "metadata": {
    "collapsed": true,
    "deletable": true,
    "editable": true
   },
   "outputs": [],
   "source": [
    "# new_df = df.select(df['id'], explode(df['years']['years']))"
   ]
  },
  {
   "cell_type": "code",
   "execution_count": 34,
   "metadata": {
    "collapsed": true,
    "deletable": true,
    "editable": true
   },
   "outputs": [],
   "source": [
    "# We read all files:\n",
    "ALL_MODELS = spark.read.json(\"s3a://edmundsvehicle/2017/*/*/*/*\")"
   ]
  },
  {
   "cell_type": "code",
   "execution_count": 35,
   "metadata": {
    "collapsed": false,
    "deletable": true,
    "editable": true
   },
   "outputs": [
    {
     "data": {
      "text/plain": [
       "pyspark.sql.dataframe.DataFrame"
      ]
     },
     "execution_count": 35,
     "metadata": {},
     "output_type": "execute_result"
    }
   ],
   "source": [
    "ALL_MODELS.cache()\n",
    "type(ALL_MODELS)"
   ]
  },
  {
   "cell_type": "code",
   "execution_count": 36,
   "metadata": {
    "collapsed": false,
    "deletable": true,
    "editable": true,
    "scrolled": true
   },
   "outputs": [],
   "source": [
    "# df_all.selectExpr('id',\n",
    "#                   'niceName',\n",
    "#                   'time_stamp',\n",
    "#                   'years[0].id as model_year_id',\n",
    "#                   'years[0].styles[0].id as style_id',\n",
    "#                   'years[0].styles[0].name as style',\n",
    "#                   'years[0].styles[0].submodel.body as body',\n",
    "#                   'years[0].styles[0].submodel.modelName as modelName',\n",
    "#                   'years[0].styles[0].trim as trim').show(500)\n",
    "# df_all.selectExpr('years').show(500)"
   ]
  },
  {
   "cell_type": "code",
   "execution_count": 37,
   "metadata": {
    "collapsed": false,
    "deletable": true,
    "editable": true,
    "scrolled": true
   },
   "outputs": [
    {
     "name": "stdout",
     "output_type": "stream",
     "text": [
      "+------------+----+\n",
      "|          id|year|\n",
      "+------------+----+\n",
      "|BMW_3_Series|2017|\n",
      "|BMW_3_Series|2016|\n",
      "|BMW_3_Series|2015|\n",
      "|BMW_3_Series|2014|\n",
      "|BMW_3_Series|2013|\n",
      "+------------+----+\n",
      "\n"
     ]
    }
   ],
   "source": [
    "# convert all to 3rd normal form schema\n",
    "\n",
    "ALL_YEARS = ALL_MODELS.select(ALL_MODELS['id'], explode(ALL_MODELS['years']))\n",
    "\n",
    "ALL_YEARS = ALL_YEARS.withColumn(\"year_id\", ALL_YEARS['col'].getField(\"id\"))\n",
    "ALL_YEARS = ALL_YEARS.withColumn(\"year\", ALL_YEARS['col'].getField(\"year\"))\n",
    "ALL_YEARS = ALL_YEARS.withColumn(\"styles\", ALL_YEARS['col'].getField(\"styles\"))\n",
    "\n",
    "ALL_STYLES = ALL_YEARS.select(ALL_YEARS['id'], explode(ALL_YEARS['styles']))\n",
    "\n",
    "ALL_STYLES = ALL_STYLES.withColumn(\"trim_id\", ALL_STYLES['col'].getField(\"id\"))\n",
    "ALL_STYLES = ALL_STYLES.withColumn(\"name\", ALL_STYLES['col'].getField(\"name\"))\n",
    "ALL_STYLES = ALL_STYLES.withColumn(\"submodel\", ALL_STYLES['col'].getField(\"submodel\"))\n",
    "ALL_STYLES = ALL_STYLES.withColumn(\"trim\", ALL_STYLES['col'].getField(\"trim\"))\n",
    "\n",
    "ALL_SUBMODELS = ALL_STYLES.select(ALL_STYLES['id'], ALL_STYLES.submodel.body, ALL_STYLES.submodel.modelName)\n",
    "\n",
    "# register as SQL table\n",
    "sqlCtx.registerDataFrameAsTable(ALL_MODELS, \"ALL_MODELS\")\n",
    "sqlCtx.registerDataFrameAsTable(ALL_YEARS, \"ALL_YEARS\")\n",
    "sqlCtx.registerDataFrameAsTable(ALL_STYLES, \"ALL_STYLES\")\n",
    "sqlCtx.registerDataFrameAsTable(ALL_SUBMODELS, \"ALL_SUBMODELS\")\n",
    "\n",
    "# run a SQL query\n",
    "test_query = sqlCtx.sql(\"\"\"SELECT m.id, y.year from ALL_MODELS m\n",
    "                    LEFT JOIN ALL_YEARS y on m.id = y.id\n",
    "                    WHERE m.id is not NULL\n",
    "                    LIMIT 5\"\"\")\n",
    "test_query.collect()\n",
    "test_query.show()"
   ]
  },
  {
   "cell_type": "code",
   "execution_count": 38,
   "metadata": {
    "collapsed": true,
    "deletable": true,
    "editable": true
   },
   "outputs": [],
   "source": [
    "info_query = sqlCtx.sql(\"\"\"SELECT m.id, y.year from ALL_MODELS m\n",
    "                    LEFT JOIN ALL_YEARS y on m.id = y.id\n",
    "                    WHERE m.id is not NULL\n",
    "                    LIMIT 500\"\"\")"
   ]
  },
  {
   "cell_type": "code",
   "execution_count": 39,
   "metadata": {
    "collapsed": false,
    "deletable": true,
    "editable": true,
    "scrolled": true
   },
   "outputs": [
    {
     "data": {
      "text/html": [
       "<div>\n",
       "<table border=\"1\" class=\"dataframe\">\n",
       "  <thead>\n",
       "    <tr style=\"text-align: right;\">\n",
       "      <th></th>\n",
       "      <th>id</th>\n",
       "      <th>year</th>\n",
       "    </tr>\n",
       "  </thead>\n",
       "  <tbody>\n",
       "    <tr>\n",
       "      <th>495</th>\n",
       "      <td>BMW_M3</td>\n",
       "      <td>2001</td>\n",
       "    </tr>\n",
       "    <tr>\n",
       "      <th>496</th>\n",
       "      <td>BMW_M3</td>\n",
       "      <td>1999</td>\n",
       "    </tr>\n",
       "    <tr>\n",
       "      <th>497</th>\n",
       "      <td>BMW_M3</td>\n",
       "      <td>1998</td>\n",
       "    </tr>\n",
       "    <tr>\n",
       "      <th>498</th>\n",
       "      <td>BMW_M3</td>\n",
       "      <td>1997</td>\n",
       "    </tr>\n",
       "    <tr>\n",
       "      <th>499</th>\n",
       "      <td>BMW_M3</td>\n",
       "      <td>1996</td>\n",
       "    </tr>\n",
       "  </tbody>\n",
       "</table>\n",
       "</div>"
      ],
      "text/plain": [
       "         id  year\n",
       "495  BMW_M3  2001\n",
       "496  BMW_M3  1999\n",
       "497  BMW_M3  1998\n",
       "498  BMW_M3  1997\n",
       "499  BMW_M3  1996"
      ]
     },
     "execution_count": 39,
     "metadata": {},
     "output_type": "execute_result"
    }
   ],
   "source": [
    "info_query.toPandas().tail()"
   ]
  },
  {
   "cell_type": "code",
   "execution_count": 40,
   "metadata": {
    "collapsed": false,
    "deletable": true,
    "editable": true,
    "scrolled": true
   },
   "outputs": [],
   "source": [
    "# query = sqlCtx.sql(\"\"\"SELECT * from ALL_MODELS m\"\"\")\n",
    "# query.toPandas().head()"
   ]
  },
  {
   "cell_type": "code",
   "execution_count": 41,
   "metadata": {
    "collapsed": false,
    "deletable": true,
    "editable": true,
    "scrolled": false
   },
   "outputs": [
    {
     "data": {
      "text/html": [
       "<div>\n",
       "<table border=\"1\" class=\"dataframe\">\n",
       "  <thead>\n",
       "    <tr style=\"text-align: right;\">\n",
       "      <th></th>\n",
       "      <th>id</th>\n",
       "      <th>name</th>\n",
       "      <th>year</th>\n",
       "      <th>year_id</th>\n",
       "    </tr>\n",
       "  </thead>\n",
       "  <tbody>\n",
       "    <tr>\n",
       "      <th>1110</th>\n",
       "      <td>Buick_Estate_Wagon</td>\n",
       "      <td>Estate Wagon</td>\n",
       "      <td>1990</td>\n",
       "      <td>3244</td>\n",
       "    </tr>\n",
       "    <tr>\n",
       "      <th>1111</th>\n",
       "      <td>BMW_X7</td>\n",
       "      <td>X7</td>\n",
       "      <td>2019</td>\n",
       "      <td>401702538</td>\n",
       "    </tr>\n",
       "  </tbody>\n",
       "</table>\n",
       "</div>"
      ],
      "text/plain": [
       "                      id          name  year    year_id\n",
       "1110  Buick_Estate_Wagon  Estate Wagon  1990       3244\n",
       "1111              BMW_X7            X7  2019  401702538"
      ]
     },
     "execution_count": 41,
     "metadata": {},
     "output_type": "execute_result"
    }
   ],
   "source": [
    "# model years\n",
    "\n",
    "years_query = sqlCtx.sql(\"\"\"SELECT m.id,\n",
    "                     m.name,\n",
    "                     y.year,\n",
    "                     y.year_id\n",
    "                    from ALL_MODELS m\n",
    "                    INNER JOIN ALL_YEARS y on y.id = m.id\n",
    "                    \"\"\")\n",
    "model_years_df = years_query.toPandas()\n",
    "model_years_df.tail(2)"
   ]
  },
  {
   "cell_type": "code",
   "execution_count": 42,
   "metadata": {
    "collapsed": false,
    "deletable": true,
    "editable": true
   },
   "outputs": [
    {
     "data": {
      "text/html": [
       "<div>\n",
       "<table border=\"1\" class=\"dataframe\">\n",
       "  <thead>\n",
       "    <tr style=\"text-align: right;\">\n",
       "      <th></th>\n",
       "      <th>id</th>\n",
       "      <th>trim</th>\n",
       "      <th>style_name</th>\n",
       "      <th>body</th>\n",
       "      <th>model_body_name</th>\n",
       "    </tr>\n",
       "  </thead>\n",
       "  <tbody>\n",
       "    <tr>\n",
       "      <th>4101</th>\n",
       "      <td>BMW_M4_GTS</td>\n",
       "      <td>Base</td>\n",
       "      <td>2dr Coupe (3.0L 6cyl Turbo 7AM)</td>\n",
       "      <td>Coupe</td>\n",
       "      <td>M4 GTS Coupe</td>\n",
       "    </tr>\n",
       "    <tr>\n",
       "      <th>4102</th>\n",
       "      <td>Audi_Q7_e_tron</td>\n",
       "      <td>Base</td>\n",
       "      <td>4dr SUV AWD (electric)</td>\n",
       "      <td>SUV</td>\n",
       "      <td>Q7 e-tron SUV</td>\n",
       "    </tr>\n",
       "    <tr>\n",
       "      <th>4103</th>\n",
       "      <td>Audi_RS_6</td>\n",
       "      <td>quattro</td>\n",
       "      <td>4dr Sedan (4.2L 8cyl 5A)</td>\n",
       "      <td>Sedan</td>\n",
       "      <td>RS 6 Sedan</td>\n",
       "    </tr>\n",
       "    <tr>\n",
       "      <th>4104</th>\n",
       "      <td>Buick_Estate_Wagon</td>\n",
       "      <td>Base</td>\n",
       "      <td>4dr Wagon</td>\n",
       "      <td>Wagon</td>\n",
       "      <td>Estate Wagon</td>\n",
       "    </tr>\n",
       "    <tr>\n",
       "      <th>4105</th>\n",
       "      <td>BMW_X7</td>\n",
       "      <td>Base</td>\n",
       "      <td>4dr SUV AWD</td>\n",
       "      <td>SUV</td>\n",
       "      <td>X7 SUV</td>\n",
       "    </tr>\n",
       "  </tbody>\n",
       "</table>\n",
       "</div>"
      ],
      "text/plain": [
       "                      id     trim                       style_name   body  \\\n",
       "4101          BMW_M4_GTS     Base  2dr Coupe (3.0L 6cyl Turbo 7AM)  Coupe   \n",
       "4102      Audi_Q7_e_tron     Base           4dr SUV AWD (electric)    SUV   \n",
       "4103           Audi_RS_6  quattro         4dr Sedan (4.2L 8cyl 5A)  Sedan   \n",
       "4104  Buick_Estate_Wagon     Base                        4dr Wagon  Wagon   \n",
       "4105              BMW_X7     Base                      4dr SUV AWD    SUV   \n",
       "\n",
       "     model_body_name  \n",
       "4101    M4 GTS Coupe  \n",
       "4102   Q7 e-tron SUV  \n",
       "4103      RS 6 Sedan  \n",
       "4104    Estate Wagon  \n",
       "4105          X7 SUV  "
      ]
     },
     "execution_count": 42,
     "metadata": {},
     "output_type": "execute_result"
    }
   ],
   "source": [
    "# model styles\n",
    "\n",
    "styles_query = sqlCtx.sql(\"\"\"SELECT m.id,\n",
    "                     s.trim,\n",
    "                     s.name as style_name,\n",
    "                     submodel.body,\n",
    "                    submodel.modelName as model_body_name\n",
    "                    from ALL_MODELS m\n",
    "                    INNER JOIN ALL_STYLES s on s.id = m.id\n",
    "                    \"\"\")\n",
    "model_styles_df = styles_query.toPandas()\n",
    "model_styles_df.tail()"
   ]
  },
  {
   "cell_type": "code",
   "execution_count": 43,
   "metadata": {
    "collapsed": false,
    "deletable": true,
    "editable": true,
    "scrolled": true
   },
   "outputs": [],
   "source": [
    "# info_query = sqlCtx.sql(\"\"\"SELECT b.id,\n",
    "#                     m.name,\n",
    "#                     y.year,\n",
    "#                     y.year_id,\n",
    "#                     s.trim,\n",
    "#                     s.name as style_name,\n",
    "#                     submodel.body,\n",
    "#                     submodel.modelName as model_body_name\n",
    "#                     from ALL_SUBMODELS b\n",
    "#                     INNER JOIN ALL_STYLES s on s.id = b.id\n",
    "#                     INNER JOIN ALL_YEARS y on y.id = b.id\n",
    "#                     INNER JOIN ALL_MODELS m on m.id = b.id\"\"\")\n",
    "# df = info_query.toPandas()\n",
    "# df\n",
    "# df.columns"
   ]
  },
  {
   "cell_type": "code",
   "execution_count": 44,
   "metadata": {
    "collapsed": false,
    "deletable": true,
    "editable": true,
    "scrolled": true
   },
   "outputs": [
    {
     "name": "stdout",
     "output_type": "stream",
     "text": [
      "+-----------------+-----+\n",
      "|               id|count|\n",
      "+-----------------+-----+\n",
      "|     BMW_3_Series|   28|\n",
      "|     BMW_7_Series|   28|\n",
      "|     BMW_5_Series|   27|\n",
      "|AM_General_Hummer|   27|\n",
      "|          Audi_A6|   23|\n",
      "|      Buick_Regal|   23|\n",
      "|          Audi_A4|   22|\n",
      "|           BMW_M3|   22|\n",
      "|          Audi_A8|   22|\n",
      "|         Acura_TL|   20|\n",
      "|          Audi_S4|   19|\n",
      "|           BMW_X5|   18|\n",
      "|         Acura_RL|   17|\n",
      "|        Acura_MDX|   17|\n",
      "|          Audi_TT|   17|\n",
      "|           BMW_M5|   16|\n",
      "|    Buick_LeSabre|   16|\n",
      "|        Acura_NSX|   16|\n",
      "|    Buick_Century|   16|\n",
      "|Buick_Park_Avenue|   15|\n",
      "+-----------------+-----+\n",
      "only showing top 20 rows\n",
      "\n"
     ]
    }
   ],
   "source": [
    "years_query.groupBy(years_query['id']).count().sort(col(\"count\").desc()).show()"
   ]
  },
  {
   "cell_type": "code",
   "execution_count": 45,
   "metadata": {
    "collapsed": false,
    "deletable": true,
    "editable": true
   },
   "outputs": [
    {
     "data": {
      "text/html": [
       "<div>\n",
       "<table border=\"1\" class=\"dataframe\">\n",
       "  <thead>\n",
       "    <tr style=\"text-align: right;\">\n",
       "      <th></th>\n",
       "      <th>id</th>\n",
       "      <th>count</th>\n",
       "    </tr>\n",
       "  </thead>\n",
       "  <tbody>\n",
       "    <tr>\n",
       "      <th>0</th>\n",
       "      <td>BMW_7_Series</td>\n",
       "      <td>28</td>\n",
       "    </tr>\n",
       "    <tr>\n",
       "      <th>1</th>\n",
       "      <td>BMW_3_Series</td>\n",
       "      <td>28</td>\n",
       "    </tr>\n",
       "    <tr>\n",
       "      <th>2</th>\n",
       "      <td>AM_General_Hummer</td>\n",
       "      <td>27</td>\n",
       "    </tr>\n",
       "    <tr>\n",
       "      <th>3</th>\n",
       "      <td>BMW_5_Series</td>\n",
       "      <td>27</td>\n",
       "    </tr>\n",
       "    <tr>\n",
       "      <th>4</th>\n",
       "      <td>Audi_A6</td>\n",
       "      <td>23</td>\n",
       "    </tr>\n",
       "    <tr>\n",
       "      <th>5</th>\n",
       "      <td>Buick_Regal</td>\n",
       "      <td>23</td>\n",
       "    </tr>\n",
       "    <tr>\n",
       "      <th>6</th>\n",
       "      <td>Audi_A8</td>\n",
       "      <td>22</td>\n",
       "    </tr>\n",
       "    <tr>\n",
       "      <th>7</th>\n",
       "      <td>BMW_M3</td>\n",
       "      <td>22</td>\n",
       "    </tr>\n",
       "    <tr>\n",
       "      <th>8</th>\n",
       "      <td>Audi_A4</td>\n",
       "      <td>22</td>\n",
       "    </tr>\n",
       "    <tr>\n",
       "      <th>9</th>\n",
       "      <td>Acura_TL</td>\n",
       "      <td>20</td>\n",
       "    </tr>\n",
       "    <tr>\n",
       "      <th>10</th>\n",
       "      <td>Audi_S4</td>\n",
       "      <td>19</td>\n",
       "    </tr>\n",
       "    <tr>\n",
       "      <th>11</th>\n",
       "      <td>BMW_X5</td>\n",
       "      <td>18</td>\n",
       "    </tr>\n",
       "    <tr>\n",
       "      <th>12</th>\n",
       "      <td>Audi_TT</td>\n",
       "      <td>17</td>\n",
       "    </tr>\n",
       "    <tr>\n",
       "      <th>13</th>\n",
       "      <td>Acura_RL</td>\n",
       "      <td>17</td>\n",
       "    </tr>\n",
       "    <tr>\n",
       "      <th>14</th>\n",
       "      <td>Acura_MDX</td>\n",
       "      <td>17</td>\n",
       "    </tr>\n",
       "    <tr>\n",
       "      <th>15</th>\n",
       "      <td>Acura_NSX</td>\n",
       "      <td>16</td>\n",
       "    </tr>\n",
       "    <tr>\n",
       "      <th>16</th>\n",
       "      <td>Buick_Century</td>\n",
       "      <td>16</td>\n",
       "    </tr>\n",
       "    <tr>\n",
       "      <th>17</th>\n",
       "      <td>Buick_LeSabre</td>\n",
       "      <td>16</td>\n",
       "    </tr>\n",
       "    <tr>\n",
       "      <th>18</th>\n",
       "      <td>BMW_M5</td>\n",
       "      <td>16</td>\n",
       "    </tr>\n",
       "    <tr>\n",
       "      <th>19</th>\n",
       "      <td>Buick_Park_Avenue</td>\n",
       "      <td>15</td>\n",
       "    </tr>\n",
       "    <tr>\n",
       "      <th>20</th>\n",
       "      <td>Cadillac_CTS</td>\n",
       "      <td>15</td>\n",
       "    </tr>\n",
       "    <tr>\n",
       "      <th>21</th>\n",
       "      <td>BMW_X3</td>\n",
       "      <td>14</td>\n",
       "    </tr>\n",
       "    <tr>\n",
       "      <th>22</th>\n",
       "      <td>BMW_Z4</td>\n",
       "      <td>14</td>\n",
       "    </tr>\n",
       "    <tr>\n",
       "      <th>23</th>\n",
       "      <td>Audi_S6</td>\n",
       "      <td>13</td>\n",
       "    </tr>\n",
       "    <tr>\n",
       "      <th>24</th>\n",
       "      <td>BMW_6_Series</td>\n",
       "      <td>13</td>\n",
       "    </tr>\n",
       "    <tr>\n",
       "      <th>25</th>\n",
       "      <td>Buick_LaCrosse</td>\n",
       "      <td>13</td>\n",
       "    </tr>\n",
       "    <tr>\n",
       "      <th>26</th>\n",
       "      <td>Cadillac_CTS_V</td>\n",
       "      <td>12</td>\n",
       "    </tr>\n",
       "    <tr>\n",
       "      <th>27</th>\n",
       "      <td>Bentley_Continental_GT</td>\n",
       "      <td>12</td>\n",
       "    </tr>\n",
       "    <tr>\n",
       "      <th>28</th>\n",
       "      <td>Acura_Integra</td>\n",
       "      <td>12</td>\n",
       "    </tr>\n",
       "    <tr>\n",
       "      <th>29</th>\n",
       "      <td>Aston_Martin_V8_Vantage</td>\n",
       "      <td>11</td>\n",
       "    </tr>\n",
       "    <tr>\n",
       "      <th>...</th>\n",
       "      <td>...</td>\n",
       "      <td>...</td>\n",
       "    </tr>\n",
       "    <tr>\n",
       "      <th>130</th>\n",
       "      <td>Cadillac_ATS_V</td>\n",
       "      <td>2</td>\n",
       "    </tr>\n",
       "    <tr>\n",
       "      <th>131</th>\n",
       "      <td>Audi_TT_RS</td>\n",
       "      <td>2</td>\n",
       "    </tr>\n",
       "    <tr>\n",
       "      <th>132</th>\n",
       "      <td>Buick_Reatta</td>\n",
       "      <td>2</td>\n",
       "    </tr>\n",
       "    <tr>\n",
       "      <th>133</th>\n",
       "      <td>Audi_Coupe</td>\n",
       "      <td>2</td>\n",
       "    </tr>\n",
       "    <tr>\n",
       "      <th>134</th>\n",
       "      <td>Cadillac_CT6</td>\n",
       "      <td>2</td>\n",
       "    </tr>\n",
       "    <tr>\n",
       "      <th>135</th>\n",
       "      <td>Buick_Cascada</td>\n",
       "      <td>2</td>\n",
       "    </tr>\n",
       "    <tr>\n",
       "      <th>136</th>\n",
       "      <td>BMW_Z4_M</td>\n",
       "      <td>2</td>\n",
       "    </tr>\n",
       "    <tr>\n",
       "      <th>137</th>\n",
       "      <td>Aston_Martin_V12_Vantage</td>\n",
       "      <td>2</td>\n",
       "    </tr>\n",
       "    <tr>\n",
       "      <th>138</th>\n",
       "      <td>Bentley_Continental_Supersports_Convertible</td>\n",
       "      <td>2</td>\n",
       "    </tr>\n",
       "    <tr>\n",
       "      <th>139</th>\n",
       "      <td>BMW_M2</td>\n",
       "      <td>2</td>\n",
       "    </tr>\n",
       "    <tr>\n",
       "      <th>140</th>\n",
       "      <td>Bentley_Bentayga</td>\n",
       "      <td>1</td>\n",
       "    </tr>\n",
       "    <tr>\n",
       "      <th>141</th>\n",
       "      <td>Bentley_Supersports_Convertible_ISR</td>\n",
       "      <td>1</td>\n",
       "    </tr>\n",
       "    <tr>\n",
       "      <th>142</th>\n",
       "      <td>Alfa_Romeo_Giulia</td>\n",
       "      <td>1</td>\n",
       "    </tr>\n",
       "    <tr>\n",
       "      <th>143</th>\n",
       "      <td>BMW_M4_GTS</td>\n",
       "      <td>1</td>\n",
       "    </tr>\n",
       "    <tr>\n",
       "      <th>144</th>\n",
       "      <td>Audi_RS_6</td>\n",
       "      <td>1</td>\n",
       "    </tr>\n",
       "    <tr>\n",
       "      <th>145</th>\n",
       "      <td>Aston_Martin_DB11</td>\n",
       "      <td>1</td>\n",
       "    </tr>\n",
       "    <tr>\n",
       "      <th>146</th>\n",
       "      <td>Audi_Q7_e_tron</td>\n",
       "      <td>1</td>\n",
       "    </tr>\n",
       "    <tr>\n",
       "      <th>147</th>\n",
       "      <td>BMW_X7</td>\n",
       "      <td>1</td>\n",
       "    </tr>\n",
       "    <tr>\n",
       "      <th>148</th>\n",
       "      <td>BMW_Alpina</td>\n",
       "      <td>1</td>\n",
       "    </tr>\n",
       "    <tr>\n",
       "      <th>149</th>\n",
       "      <td>Audi_A4_allroad</td>\n",
       "      <td>1</td>\n",
       "    </tr>\n",
       "    <tr>\n",
       "      <th>150</th>\n",
       "      <td>Bentley_Continental_GT_Speed_Convertible</td>\n",
       "      <td>1</td>\n",
       "    </tr>\n",
       "    <tr>\n",
       "      <th>151</th>\n",
       "      <td>Aston_Martin_DB9_GT</td>\n",
       "      <td>1</td>\n",
       "    </tr>\n",
       "    <tr>\n",
       "      <th>152</th>\n",
       "      <td>Acura_ILX_Hybrid</td>\n",
       "      <td>1</td>\n",
       "    </tr>\n",
       "    <tr>\n",
       "      <th>153</th>\n",
       "      <td>BMW_3_Series_eDrive</td>\n",
       "      <td>1</td>\n",
       "    </tr>\n",
       "    <tr>\n",
       "      <th>154</th>\n",
       "      <td>Bentley_Azure_T</td>\n",
       "      <td>1</td>\n",
       "    </tr>\n",
       "    <tr>\n",
       "      <th>155</th>\n",
       "      <td>BMW_1_Series_M</td>\n",
       "      <td>1</td>\n",
       "    </tr>\n",
       "    <tr>\n",
       "      <th>156</th>\n",
       "      <td>Bentley_Continental_GT3_R</td>\n",
       "      <td>1</td>\n",
       "    </tr>\n",
       "    <tr>\n",
       "      <th>157</th>\n",
       "      <td>BMW_X5_eDrive</td>\n",
       "      <td>1</td>\n",
       "    </tr>\n",
       "    <tr>\n",
       "      <th>158</th>\n",
       "      <td>Buick_Estate_Wagon</td>\n",
       "      <td>1</td>\n",
       "    </tr>\n",
       "    <tr>\n",
       "      <th>159</th>\n",
       "      <td>Buick_Electra</td>\n",
       "      <td>1</td>\n",
       "    </tr>\n",
       "  </tbody>\n",
       "</table>\n",
       "<p>160 rows × 2 columns</p>\n",
       "</div>"
      ],
      "text/plain": [
       "                                              id  count\n",
       "0                                   BMW_7_Series     28\n",
       "1                                   BMW_3_Series     28\n",
       "2                              AM_General_Hummer     27\n",
       "3                                   BMW_5_Series     27\n",
       "4                                        Audi_A6     23\n",
       "5                                    Buick_Regal     23\n",
       "6                                        Audi_A8     22\n",
       "7                                         BMW_M3     22\n",
       "8                                        Audi_A4     22\n",
       "9                                       Acura_TL     20\n",
       "10                                       Audi_S4     19\n",
       "11                                        BMW_X5     18\n",
       "12                                       Audi_TT     17\n",
       "13                                      Acura_RL     17\n",
       "14                                     Acura_MDX     17\n",
       "15                                     Acura_NSX     16\n",
       "16                                 Buick_Century     16\n",
       "17                                 Buick_LeSabre     16\n",
       "18                                        BMW_M5     16\n",
       "19                             Buick_Park_Avenue     15\n",
       "20                                  Cadillac_CTS     15\n",
       "21                                        BMW_X3     14\n",
       "22                                        BMW_Z4     14\n",
       "23                                       Audi_S6     13\n",
       "24                                  BMW_6_Series     13\n",
       "25                                Buick_LaCrosse     13\n",
       "26                                Cadillac_CTS_V     12\n",
       "27                        Bentley_Continental_GT     12\n",
       "28                                 Acura_Integra     12\n",
       "29                       Aston_Martin_V8_Vantage     11\n",
       "..                                           ...    ...\n",
       "130                               Cadillac_ATS_V      2\n",
       "131                                   Audi_TT_RS      2\n",
       "132                                 Buick_Reatta      2\n",
       "133                                   Audi_Coupe      2\n",
       "134                                 Cadillac_CT6      2\n",
       "135                                Buick_Cascada      2\n",
       "136                                     BMW_Z4_M      2\n",
       "137                     Aston_Martin_V12_Vantage      2\n",
       "138  Bentley_Continental_Supersports_Convertible      2\n",
       "139                                       BMW_M2      2\n",
       "140                             Bentley_Bentayga      1\n",
       "141          Bentley_Supersports_Convertible_ISR      1\n",
       "142                            Alfa_Romeo_Giulia      1\n",
       "143                                   BMW_M4_GTS      1\n",
       "144                                    Audi_RS_6      1\n",
       "145                            Aston_Martin_DB11      1\n",
       "146                               Audi_Q7_e_tron      1\n",
       "147                                       BMW_X7      1\n",
       "148                                   BMW_Alpina      1\n",
       "149                              Audi_A4_allroad      1\n",
       "150     Bentley_Continental_GT_Speed_Convertible      1\n",
       "151                          Aston_Martin_DB9_GT      1\n",
       "152                             Acura_ILX_Hybrid      1\n",
       "153                          BMW_3_Series_eDrive      1\n",
       "154                              Bentley_Azure_T      1\n",
       "155                               BMW_1_Series_M      1\n",
       "156                    Bentley_Continental_GT3_R      1\n",
       "157                                BMW_X5_eDrive      1\n",
       "158                           Buick_Estate_Wagon      1\n",
       "159                                Buick_Electra      1\n",
       "\n",
       "[160 rows x 2 columns]"
      ]
     },
     "execution_count": 45,
     "metadata": {},
     "output_type": "execute_result"
    }
   ],
   "source": [
    "years_query.groupBy(years_query['id']).count().sort(col(\"count\").desc()).toPandas()"
   ]
  },
  {
   "cell_type": "code",
   "execution_count": 46,
   "metadata": {
    "collapsed": false,
    "deletable": true,
    "editable": true,
    "scrolled": true
   },
   "outputs": [
    {
     "name": "stdout",
     "output_type": "stream",
     "text": [
      "+-----------+-----+\n",
      "|       body|count|\n",
      "+-----------+-----+\n",
      "|      Sedan| 1805|\n",
      "|      Coupe|  677|\n",
      "|        SUV|  665|\n",
      "|Convertible|  501|\n",
      "|      Wagon|  278|\n",
      "|  Hatchback|  163|\n",
      "|    Minivan|   11|\n",
      "|  CTS Coupe|    6|\n",
      "+-----------+-----+\n",
      "\n"
     ]
    }
   ],
   "source": [
    "styles_query.groupBy(styles_query['body']).count().sort(col(\"count\").desc()).show()"
   ]
  },
  {
   "cell_type": "code",
   "execution_count": 48,
   "metadata": {
    "collapsed": false,
    "deletable": true,
    "editable": true
   },
   "outputs": [
    {
     "name": "stdout",
     "output_type": "stream",
     "text": [
      "Wednesday, March, 08 2017 19:00:41\n"
     ]
    }
   ],
   "source": [
    "# # from time import localtime, strftime\n",
    "# # # datetime.datetime.now().strftime(\"%A, %d. %B %Y %I:%M%p\")\n",
    "# # # from time import gmtime, strftime\n",
    "# # strftime(\"%a, %d %b %Y %H:%M:%S +0000\", localtime())\n",
    "\n",
    "# from datetime import datetime, timedelta\n",
    "# from pytz import timezone\n",
    "# import pytz\n",
    "# utc = pytz.utc\n",
    "# utc.zone\n",
    "\n",
    "# pacific = timezone('US/Pacific')\n",
    "# pacific.zone\n",
    "\n",
    "# amsterdam = timezone('Europe/Amsterdam')\n",
    "# fmt = '%Y-%m-%d %H:%M:%S %Z%z'\n",
    "\n",
    "# loc_dt = pacific.localize(datetime.now())\n",
    "# print loc_dt.strftime(fmt)\n",
    "\n",
    "# # ams_dt = loc_dt.astimezone(amsterdam)\n",
    "# # ams_dt.strftime(fmt)\n",
    "\n",
    "from datetime import datetime\n",
    "from pytz import timezone    \n",
    "\n",
    "pacific = timezone('US/Pacific')\n",
    "pacific_time = datetime.now(pacific)\n",
    "# print pacific_time.strftime('%Y-%m-%d %H:%M:%S %Z%z')\n",
    "print pacific_time.strftime('%A, %B, %d %Y %H:%M:%S')"
   ]
  },
  {
   "cell_type": "code",
   "execution_count": 65,
   "metadata": {
    "collapsed": false,
    "deletable": true,
    "editable": true
   },
   "outputs": [],
   "source": [
    "# edmunds.py\n",
    "\n",
    "import sys\n",
    "import json\n",
    "import pandas as pd\n",
    "from pyspark import SparkConf, SparkContext\n",
    "\n",
    "from datetime import datetime\n",
    "from pytz import timezone   \n",
    "\n",
    "# Constants\n",
    "APP_NAME = \"Top 20 Vehicle Models by Years\"\n",
    "\n",
    "# def filter_vehicles(data):\n",
    "#     try:\n",
    "#         tweet = json.loads(data)\n",
    "#         if 'id' in tweet:\n",
    "#             entities = tweet.get('entities')\n",
    "#         if entities:\n",
    "#             hashtags = entities.get('hashtags')\n",
    "#         if hashtags:\n",
    "#             return True\n",
    "#         return False\n",
    "#     except:\n",
    "#         return False\n",
    "\n",
    "# def get_hashtags(data):\n",
    "#     try:\n",
    "#         tweet = json.loads(data)\n",
    "#         if 'id' in tweet:\n",
    "#             entities = tweet.get('entities')\n",
    "#         if entities:\n",
    "#             hashtags = entities.get('hashtags')\n",
    "#         if hashtags:\n",
    "#             return [i['text'] for i in hashtags]\n",
    "#     except:\n",
    "#         pass\n",
    "\n",
    "\n",
    "def main():\n",
    "    try:\n",
    "#         vehicles = sc.textFile(\"s3a://justw149/2017/02/*/*/*\")\n",
    "#         # tweets = sc.textFile(filename)\n",
    "#         clean_tweets = tweets.filter(filter_hashtags)\n",
    "#         hash_text = clean_tweets.flatMap(get_hashtags)\n",
    "#         maps = hash_text.map(lambda text: (text,1))\n",
    "#         hashtags_counts = maps.reduceByKey(lambda a,b: a + b)\n",
    "#         reverse_hashtags = hashtags_counts.map(lambda x: (x[1], x[0]))\n",
    "#         sorted_hashtags = reverse_hashtags.sortByKey(ascending=False)\n",
    "#         # sorted_hashtags.top(20)\n",
    "#         # take 20\n",
    "#         top_hashtags = pd.DataFrame(sorted_hashtags.take(20), columns=['hashtag_count', 'hashtag'])\n",
    "\n",
    "        # chart showing the models that have the most years\n",
    "        top_models = years_query.groupBy(years_query['id']).count().sort(col(\"count\").desc()).toPandas()\n",
    "        \n",
    "        # chart showing counts of body styles in the database\n",
    "        body_style_counts = styles_query.groupBy(styles_query['body']).count().sort(col(\"count\").desc()).toPandas()\n",
    "    \n",
    "        # get the current local time\n",
    "        pacific = timezone('US/Pacific')\n",
    "        pacific_time = datetime.now(pacific)\n",
    "        # print pacific_time.strftime('%Y-%m-%d %H:%M:%S %Z%z')\n",
    "#         print pacific_time.strftime('%A, %B, %d %Y %H:%M:%S')\n",
    "    \n",
    "        \n",
    "        # export to html\n",
    "        top_html = body_style_counts.to_html() + top_models.to_html()\n",
    "\n",
    "        html = \"<!DOCTYPE html><html><body>{}</body></html>\".format(top_html.encode('utf-8'))\n",
    "        results = open(\"topVehicles.html\", 'w')\n",
    "        results.write(\"Last Updated: \"+ pacific_time.strftime('%A, %B, %d %Y %H:%M:%S') + \" Pacific Time\")\n",
    "        results.write(\"<hr>Hi!  This webpage shows counts of body styles in the database and the number of years for each model.<br>It serves as the front end of my Edmunds car data pipeline.  - Justin J. Wang<hr>\")\n",
    "        results.write(html)\n",
    "        results.close()\n",
    "\n",
    "#         top_RDD = sc.parallelize(hashtags_counts.top(20))\n",
    "#         top_RDD.saveAsTextFile('s3a://sparksubmitresultsjw/results')\n",
    "        \n",
    "    except Exception as e:\n",
    "        print(e)\n",
    "\n",
    "\n",
    "if __name__ == \"__main__\":\n",
    "    # Configure spark\n",
    "    conf = SparkConf().setAppName(APP_NAME)\n",
    "    conf = conf.setMaster(\"local[*]\")\n",
    "#     sc = SparkContext(conf=conf)\n",
    "    # filename = sys.argv[1]\n",
    "    # Execute Main functionality\n",
    "main()"
   ]
  },
  {
   "cell_type": "code",
   "execution_count": 123,
   "metadata": {
    "collapsed": false,
    "deletable": true,
    "editable": true
   },
   "outputs": [],
   "source": [
    "# https://github.com/justwjr/DSCI6007-student/blob/master/5.4%20-%20Spark%20Submit/steps%20for%20LAB.txt\n",
    "\n",
    "# run this .py file in local, after doing a \"reverse scp\" after getting .pem file into EMR\n",
    "\n",
    "# reverse scp, run command on local machine:\n",
    "# scp -i ~/the_cloud.pem hadoop@ec2-54-159-219-64.compute-1.amazonaws.com:~/topVehicles.html ~/OneDrive/Edmunds-Car-Data-Pipeline-sdk-python\n",
    "# /Users/justw/OneDrive/Edmunds-Car-Data-Pipeline-sdk-python\n",
    "\n",
    "# # spark_results_boto.py\n",
    "\n",
    "# import ssl\n",
    "# import boto\n",
    "# from boto.s3.connection import S3Connection\n",
    "\n",
    "# def boto_upload_s3(html_file):\n",
    "#     conn = S3Connection()\n",
    "#     if hasattr(ssl, '_create_unverified_context'):\n",
    "#         ssl._create_default_https_context = ssl._create_unverified_context\n",
    "#     website_bucket = conn.get_bucket('edmundssparksubmitresults')\n",
    "#     output_file = website_bucket.new_key('top_models_spark.html')\n",
    "#     output_file.content_type = 'text/html'\n",
    "#     output_file.set_contents_from_string(html_file, policy='public-read')\n",
    "\n",
    "# if __name__ == '__main__':\n",
    "#     top = open(\"topVehicles.html\", \"r\")\n",
    "#     html_file = top.read()\n",
    "#     boto_upload_s3(html_file)\n",
    "# top.close()"
   ]
  },
  {
   "cell_type": "markdown",
   "metadata": {
    "deletable": true,
    "editable": true
   },
   "source": [
    "Steps\n",
    "\n",
    "1) Setup EMR: Spark, 2xlarge, or just do m3.xlarge, 3 machines\n",
    "2) ssh: ssh -i ~/.ssh/the_cloud.pem hadoop@ec2-54-84-250-89.compute-1.amazonaws.com\n",
    "\n",
    "put URL of master node into web browser\n",
    "Make sure that the security group for your master node allows connections on that port.\n",
    "http://ec2-54-84-250-89.compute-1.amazonaws.com:8890\n",
    "\n",
    "3) copy .py to emr\n",
    "\n",
    "4) sudo pip install pandas\n",
    "\n",
    "5) unset PYSPARK_DRIVER_PYTHON\n",
    "\n",
    "6) create the S3 folder for results\n",
    "\n",
    "7) spark-submit tweets.py --> top20hashtags.html\n",
    "\n",
    "\n",
    "reverse scp\n",
    "8) scp from emr to local (top20hashtags)\n",
    "run in local:\n",
    "\n",
    "scp -i ~/the_cloud.pem hadoop@ec2-54-84-250-89.compute-1.amazonaws.com:~/top20hashtags.html ~/OneDrive/…\n",
    "\n",
    "9) run sparkresultsboto.py in local, which puts top20hashtags.html to s3 bucket\n",
    "\n",
    "\n",
    "10) enable static website hosting in s3: http://sparksubmitresults.s3-website-us-east-1.amazonaws.com/\n",
    "\n",
    "http://sparksubmitresultsjw.s3-website-us-west-1.amazonaws.com/\n",
    "\n",
    "\n",
    "add policy in permissions\n",
    "{\n",
    "\t\"Version\": \"2008-10-17\",\n",
    "\t\"Statement\": [\n",
    "\t\t{\n",
    "\t\t\t\"Sid\": \"AllowPublicRead\",\n",
    "\t\t\t\"Effect\": \"Allow\",\n",
    "\t\t\t\"Principal\": {\n",
    "\t\t\t\t\"AWS\": \"*\"\n",
    "\t\t\t},\n",
    "\t\t\t\"Action\": [\n",
    "\t\t\t\t\"s3:GetObject\"\n",
    "\t\t\t],\n",
    "\t\t\t\"Resource\": [\n",
    "\t\t\t\t\"arn:aws:s3:::edmundssparksubmitresults/*\"\n",
    "\t\t\t]\n",
    "\t\t}\n",
    "\t]\n",
    "}"
   ]
  },
  {
   "cell_type": "markdown",
   "metadata": {
    "collapsed": true,
    "deletable": true,
    "editable": true
   },
   "source": [
    "https://s3-us-west-1.amazonaws.com/edmundssparksubmitresults/topVehicles.html"
   ]
  }
 ],
 "metadata": {
  "kernelspec": {
   "display_name": "Python 2",
   "language": "python",
   "name": "python2"
  },
  "language_info": {
   "codemirror_mode": {
    "name": "ipython",
    "version": 2
   },
   "file_extension": ".py",
   "mimetype": "text/x-python",
   "name": "python",
   "nbconvert_exporter": "python",
   "pygments_lexer": "ipython2",
   "version": "2.7.13"
  }
 },
 "nbformat": 4,
 "nbformat_minor": 2
}
